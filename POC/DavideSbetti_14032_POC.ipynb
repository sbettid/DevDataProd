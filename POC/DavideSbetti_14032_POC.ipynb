{
  "nbformat": 4,
  "nbformat_minor": 0,
  "metadata": {
    "kernelspec": {
      "display_name": "Python 3",
      "language": "python",
      "name": "python3"
    },
    "language_info": {
      "codemirror_mode": {
        "name": "ipython",
        "version": 3
      },
      "file_extension": ".py",
      "mimetype": "text/x-python",
      "name": "python",
      "nbconvert_exporter": "python",
      "pygments_lexer": "ipython3",
      "version": "3.7.8"
    },
    "colab": {
      "name": "DavideSbetti_14032-POC.ipynb",
      "provenance": [],
      "collapsed_sections": []
    },
    "accelerator": "GPU"
  },
  "cells": [
    {
      "cell_type": "markdown",
      "metadata": {
        "id": "SCCHfAWFOExQ"
      },
      "source": [
        "Davide Sbetti - 14032\r\n",
        "\r\n",
        "---\r\n"
      ]
    },
    {
      "cell_type": "markdown",
      "metadata": {
        "id": "zUFypcLEcKUK"
      },
      "source": [
        "# DevDataProd - POC"
      ]
    },
    {
      "cell_type": "markdown",
      "metadata": {
        "id": "cVq-E2jaOLJp"
      },
      "source": [
        "The goal of this POC for the course Development of Data Products is to create a model able to distinguish between different types of text posts. \r\n",
        "\r\n",
        "In particular, the core idea is to distinguish \"clean posts\" (regular posts) from the hate speech ones (racist, sexists, homophobe, religion and general hate speech). \r\n",
        "\r\n",
        "The generated model will then be used on some input posts provided through a GUI. \r\n",
        "\r\n",
        "For the POC scope, I decided to use an already existing dataset, taken from https://gombru.github.io/2019/10/09/MMHS/"
      ]
    },
    {
      "cell_type": "markdown",
      "metadata": {
        "id": "7jy9gc0fQ8dn"
      },
      "source": [
        "I start by importing the necessary libraries. "
      ]
    },
    {
      "cell_type": "code",
      "metadata": {
        "id": "a0tGRNxYcKUZ"
      },
      "source": [
        "import pandas as pd\n",
        "from collections import Counter\n",
        "import tensorflow_hub as hub\n",
        "from tensorflow import keras\n",
        "import tensorflow as tf"
      ],
      "execution_count": null,
      "outputs": []
    },
    {
      "cell_type": "markdown",
      "metadata": {
        "id": "u2104U1xRFxo"
      },
      "source": [
        "I then read the dataset, uploaded on GitHub for simplicity. "
      ]
    },
    {
      "cell_type": "code",
      "metadata": {
        "id": "26OPaKhWcKUb"
      },
      "source": [
        "data = pd.read_json(\"https://raw.githubusercontent.com/sbettid/DevDataProd/master/MMHS150K_GT.json\")"
      ],
      "execution_count": null,
      "outputs": []
    },
    {
      "cell_type": "code",
      "metadata": {
        "colab": {
          "base_uri": "https://localhost:8080/",
          "height": 394
        },
        "id": "iYIMYSnlcKUd",
        "outputId": "b006425a-1f3a-4557-c035-290eb2017bfb"
      },
      "source": [
        "data"
      ],
      "execution_count": null,
      "outputs": [
        {
          "output_type": "execute_result",
          "data": {
            "text/html": [
              "<div>\n",
              "<style scoped>\n",
              "    .dataframe tbody tr th:only-of-type {\n",
              "        vertical-align: middle;\n",
              "    }\n",
              "\n",
              "    .dataframe tbody tr th {\n",
              "        vertical-align: top;\n",
              "    }\n",
              "\n",
              "    .dataframe thead th {\n",
              "        text-align: right;\n",
              "    }\n",
              "</style>\n",
              "<table border=\"1\" class=\"dataframe\">\n",
              "  <thead>\n",
              "    <tr style=\"text-align: right;\">\n",
              "      <th></th>\n",
              "      <th>2005-04-28 09:09:13.714016256</th>\n",
              "      <th>2003-09-08 11:20:48.816660480</th>\n",
              "      <th>2005-02-20 19:22:48.075374593</th>\n",
              "      <th>2005-04-26 23:35:34.635618305</th>\n",
              "      <th>2002-10-22 02:08:00.215592966</th>\n",
              "      <th>2005-01-29 05:56:59.654303744</th>\n",
              "      <th>2005-04-19 14:14:03.568463874</th>\n",
              "      <th>2005-04-27 07:56:57.693966336</th>\n",
              "      <th>2003-02-21 06:38:34.740666370</th>\n",
              "      <th>2005-02-12 03:20:53.910695936</th>\n",
              "      <th>2005-05-21 19:07:28.016556035</th>\n",
              "      <th>2005-04-28 05:39:17.497733122</th>\n",
              "      <th>2005-02-28 17:52:55.861899264</th>\n",
              "      <th>2005-02-07 15:10:47.731273728</th>\n",
              "      <th>2005-05-01 03:29:52.403578884</th>\n",
              "      <th>2005-05-18 05:05:05.716830208</th>\n",
              "      <th>2003-04-16 07:21:28.194969600</th>\n",
              "      <th>2005-04-15 02:05:22.789228549</th>\n",
              "      <th>2005-02-07 17:03:03.066312704</th>\n",
              "      <th>2005-04-15 09:03:35.829471238</th>\n",
              "      <th>2005-01-24 15:20:19.936182273</th>\n",
              "      <th>2005-02-11 03:39:05.122856961</th>\n",
              "      <th>2003-06-09 16:36:48.624058368</th>\n",
              "      <th>2005-05-05 13:37:41.088591879</th>\n",
              "      <th>2003-07-12 21:56:33.044570119</th>\n",
              "      <th>2003-05-25 08:04:56.309178368</th>\n",
              "      <th>2003-02-07 05:34:39.042408453</th>\n",
              "      <th>2005-04-10 15:06:08.954601472</th>\n",
              "      <th>2005-01-08 08:49:27.488548865</th>\n",
              "      <th>2005-03-01 05:01:21.435860992</th>\n",
              "      <th>2005-02-23 13:55:04.600641538</th>\n",
              "      <th>2002-11-11 20:49:06.593603584</th>\n",
              "      <th>2005-02-06 03:49:42.229884933</th>\n",
              "      <th>2005-02-01 12:20:04.810563584</th>\n",
              "      <th>2005-02-20 04:09:38.234503169</th>\n",
              "      <th>2005-05-19 19:50:29.960761354</th>\n",
              "      <th>2005-05-31 09:01:04.130846722</th>\n",
              "      <th>2003-08-16 01:24:14.472830977</th>\n",
              "      <th>2005-02-24 02:03:42.502285313</th>\n",
              "      <th>2005-05-05 06:47:09.476372480</th>\n",
              "      <th>...</th>\n",
              "      <th>2003-07-01 19:43:03.276916737</th>\n",
              "      <th>2005-05-12 01:30:03.905212416</th>\n",
              "      <th>2005-05-19 18:50:09.609572352</th>\n",
              "      <th>2005-01-24 20:01:58.187225089</th>\n",
              "      <th>2005-04-10 06:05:11.161196546</th>\n",
              "      <th>2003-05-20 18:26:07.746727936</th>\n",
              "      <th>2003-02-21 16:30:47.533596672</th>\n",
              "      <th>2005-04-24 04:10:52.889972737</th>\n",
              "      <th>2005-05-14 02:10:05.993803776</th>\n",
              "      <th>2005-02-27 07:14:33.751326726</th>\n",
              "      <th>2005-03-05 13:01:59.260033024</th>\n",
              "      <th>2003-01-11 04:01:32.947935233</th>\n",
              "      <th>2003-08-21 12:19:13.158508544</th>\n",
              "      <th>2003-07-06 17:22:30.372114432</th>\n",
              "      <th>2005-04-11 12:13:27.617699840</th>\n",
              "      <th>2005-04-14 07:43:29.975951360</th>\n",
              "      <th>2005-02-27 09:29:51.843500037</th>\n",
              "      <th>2005-02-23 06:09:39.977379840</th>\n",
              "      <th>2005-05-03 06:37:07.071369217</th>\n",
              "      <th>2003-02-07 06:05:35.005216768</th>\n",
              "      <th>2002-06-25 18:28:22.015246336</th>\n",
              "      <th>2005-02-23 00:30:49.560907776</th>\n",
              "      <th>2005-02-19 12:02:16.818200576</th>\n",
              "      <th>2005-05-13 13:49:00.721590272</th>\n",
              "      <th>2003-09-15 06:55:44.919306246</th>\n",
              "      <th>2003-06-26 02:44:05.215059969</th>\n",
              "      <th>2005-02-05 14:35:18.725541890</th>\n",
              "      <th>2005-01-14 17:09:15.686621185</th>\n",
              "      <th>2005-04-13 19:43:20.923004929</th>\n",
              "      <th>2005-02-02 23:44:53.541232642</th>\n",
              "      <th>2005-05-19 20:33:32.263710720</th>\n",
              "      <th>2003-08-29 12:59:08.748513280</th>\n",
              "      <th>2005-02-03 00:58:27.815477250</th>\n",
              "      <th>2005-01-11 17:45:52.544374786</th>\n",
              "      <th>2005-04-21 06:47:11.071453184</th>\n",
              "      <th>2005-04-22 11:52:14.472048640</th>\n",
              "      <th>2005-03-09 11:36:38.786846720</th>\n",
              "      <th>2005-01-28 19:50:58.540851200</th>\n",
              "      <th>2005-01-09 10:58:29.233188865</th>\n",
              "      <th>2005-04-28 01:58:34.364530691</th>\n",
              "    </tr>\n",
              "  </thead>\n",
              "  <tbody>\n",
              "    <tr>\n",
              "      <th>img_url</th>\n",
              "      <td>http://pbs.twimg.com/tweet_video_thumb/D3gi9MH...</td>\n",
              "      <td>http://pbs.twimg.com/ext_tw_video_thumb/106301...</td>\n",
              "      <td>http://pbs.twimg.com/media/D2OzhzHUwAADQjd.jpg</td>\n",
              "      <td>http://pbs.twimg.com/ext_tw_video_thumb/111401...</td>\n",
              "      <td>http://pbs.twimg.com/media/Dl30pGIU8AAVGxO.jpg</td>\n",
              "      <td>http://pbs.twimg.com/media/D1zG0qnX4AAw9SC.jpg</td>\n",
              "      <td>http://pbs.twimg.com/media/D3VwYEKW4AYz4vk.jpg</td>\n",
              "      <td>http://pbs.twimg.com/media/D3fQcCCWAAIG8tO.jpg</td>\n",
              "      <td>http://pbs.twimg.com/media/DoN2KFmXcAAIT-Y.jpg</td>\n",
              "      <td>http://pbs.twimg.com/ext_tw_video_thumb/110817...</td>\n",
              "      <td>http://pbs.twimg.com/tweet_video_thumb/D39S8tb...</td>\n",
              "      <td>http://pbs.twimg.com/media/D3gXfziW4AEUvzx.jpg</td>\n",
              "      <td>http://pbs.twimg.com/media/D2YjTKsWsAA1i5W.jpg</td>\n",
              "      <td>http://pbs.twimg.com/tweet_video_thumb/D1-oQf3...</td>\n",
              "      <td>http://pbs.twimg.com/media/D3j8Lz0WsAArzPx.jpg</td>\n",
              "      <td>http://pbs.twimg.com/tweet_video_thumb/D345PrB...</td>\n",
              "      <td>http://pbs.twimg.com/media/DpQL3kGUcAANrXn.jpg</td>\n",
              "      <td>http://pbs.twimg.com/media/D3QOSgnWkAEvioq.jpg</td>\n",
              "      <td>http://pbs.twimg.com/ext_tw_video_thumb/110779...</td>\n",
              "      <td>http://pbs.twimg.com/media/D3QlGJfXsAAQRNJ.jpg</td>\n",
              "      <td>http://pbs.twimg.com/tweet_video_thumb/D1tcqNc...</td>\n",
              "      <td>http://pbs.twimg.com/media/D2C80RkX0AIw0Fy.jpg</td>\n",
              "      <td>http://pbs.twimg.com/media/DqS9h79XQAE4BVI.jpg</td>\n",
              "      <td>http://pbs.twimg.com/ext_tw_video_thumb/111522...</td>\n",
              "      <td>http://pbs.twimg.com/media/Dq7wIAVU0AAn-8q.jpg</td>\n",
              "      <td>http://pbs.twimg.com/tweet_video_thumb/DqAG5Ah...</td>\n",
              "      <td>http://pbs.twimg.com/media/Dn8ml4LX0AAQTll.jpg</td>\n",
              "      <td>http://pbs.twimg.com/tweet_video_thumb/D3Kv_bl...</td>\n",
              "      <td>http://pbs.twimg.com/media/D1ZeCoxWwAAHJyJ.jpg</td>\n",
              "      <td>http://pbs.twimg.com/media/D2ZHxtqUYAE8wkV.jpg</td>\n",
              "      <td>http://pbs.twimg.com/media/D2SNavMX0AEukQt.jpg</td>\n",
              "      <td>http://pbs.twimg.com/tweet_video_thumb/DmRVZ3M...</td>\n",
              "      <td>http://pbs.twimg.com/media/D180hSJXcAALyKw.jpg</td>\n",
              "      <td>http://pbs.twimg.com/tweet_video_thumb/D13HdzB...</td>\n",
              "      <td>http://pbs.twimg.com/media/D2OBuKDWwAAhkqm.jpg</td>\n",
              "      <td>http://pbs.twimg.com/tweet_video_thumb/D364I2j...</td>\n",
              "      <td>http://pbs.twimg.com/ext_tw_video_thumb/734119...</td>\n",
              "      <td>http://pbs.twimg.com/ext_tw_video_thumb/106099...</td>\n",
              "      <td>http://pbs.twimg.com/tweet_video_thumb/D2S1LUW...</td>\n",
              "      <td>http://pbs.twimg.com/tweet_video_thumb/D3pBPKL...</td>\n",
              "      <td>...</td>\n",
              "      <td>http://pbs.twimg.com/media/DquIdkNX4AAGRYU.jpg</td>\n",
              "      <td>http://pbs.twimg.com/media/D3xWBuDW4AE3usO.jpg</td>\n",
              "      <td>http://pbs.twimg.com/ext_tw_video_thumb/111652...</td>\n",
              "      <td>http://pbs.twimg.com/media/D1tsBkiW0AM1oNr.jpg</td>\n",
              "      <td>http://pbs.twimg.com/media/D3KSd4JWsAAXDW2.jpg</td>\n",
              "      <td>http://pbs.twimg.com/media/Dp6f46YX4AEOkTo.jpg</td>\n",
              "      <td>http://pbs.twimg.com/media/DMnkAjlUEAAcbAg.jpg</td>\n",
              "      <td>http://pbs.twimg.com/media/D3bYW3fXoAEB4ML.jpg</td>\n",
              "      <td>http://pbs.twimg.com/media/D3z1YC6WkAAswct.jpg</td>\n",
              "      <td>http://pbs.twimg.com/media/D2Wx4cFXcAMp9D-.jpg</td>\n",
              "      <td>http://pbs.twimg.com/ext_tw_video_thumb/111002...</td>\n",
              "      <td>http://pbs.twimg.com/media/DnbX2GLU0AA9HDX.jpg</td>\n",
              "      <td>http://pbs.twimg.com/media/DrsX1w-UwAADXtu.jpg</td>\n",
              "      <td>http://pbs.twimg.com/media/Dq0JZyUX0AABtwr.jpg</td>\n",
              "      <td>http://pbs.twimg.com/tweet_video_thumb/D3L1JfN...</td>\n",
              "      <td>http://pbs.twimg.com/media/D3PSKLZWAAE3KvU.jpg</td>\n",
              "      <td>http://pbs.twimg.com/media/D2W5RBzXcAMGTO6.jpg</td>\n",
              "      <td>http://pbs.twimg.com/tweet_video_thumb/D2R0BSr...</td>\n",
              "      <td>http://pbs.twimg.com/tweet_video_thumb/D3mjj30...</td>\n",
              "      <td>http://pbs.twimg.com/ext_tw_video_thumb/104439...</td>\n",
              "      <td>http://pbs.twimg.com/media/DjmjE-1XsAAfruf.jpg</td>\n",
              "      <td>http://pbs.twimg.com/media/D2Rhh25XgAErmsp.jpg</td>\n",
              "      <td>http://pbs.twimg.com/ext_tw_video_thumb/110881...</td>\n",
              "      <td>http://pbs.twimg.com/ext_tw_video_thumb/111599...</td>\n",
              "      <td>http://pbs.twimg.com/tweet_video_thumb/DsKystH...</td>\n",
              "      <td>http://pbs.twimg.com/media/DqnH9QYVYAAKgDj.jpg</td>\n",
              "      <td>http://pbs.twimg.com/media/D18JKEqX0AA_bi-.jpg</td>\n",
              "      <td>http://pbs.twimg.com/media/D1hQzTnWoAAkzGA.jpg</td>\n",
              "      <td>http://pbs.twimg.com/media/D3Oq3Q7V4AARsnI.jpg</td>\n",
              "      <td>http://pbs.twimg.com/media/D147aqyX0AICbzE.jpg</td>\n",
              "      <td>http://pbs.twimg.com/tweet_video_thumb/D366fX4...</td>\n",
              "      <td>http://pbs.twimg.com/media/Dr2OnfWX4AAG0YR.jpg</td>\n",
              "      <td>http://pbs.twimg.com/media/D14_buJXcAAvw2Z.jpg</td>\n",
              "      <td>http://pbs.twimg.com/tweet_video_thumb/D1dnDez...</td>\n",
              "      <td>http://pbs.twimg.com/media/D3X1JtrXkAAPHkL.jpg</td>\n",
              "      <td>http://pbs.twimg.com/tweet_video_thumb/D3ZUXNw...</td>\n",
              "      <td>http://pbs.twimg.com/ext_tw_video_thumb/111036...</td>\n",
              "      <td>http://pbs.twimg.com/media/D1yluGmXgAEKNG5.jpg</td>\n",
              "      <td>http://pbs.twimg.com/tweet_video_thumb/D1azqiz...</td>\n",
              "      <td>http://pbs.twimg.com/media/D3gLdL0W0AENzVJ.jpg</td>\n",
              "    </tr>\n",
              "    <tr>\n",
              "      <th>labels</th>\n",
              "      <td>[4, 1, 3]</td>\n",
              "      <td>[5, 5, 5]</td>\n",
              "      <td>[0, 0, 0]</td>\n",
              "      <td>[1, 0, 0]</td>\n",
              "      <td>[1, 0, 1]</td>\n",
              "      <td>[0, 0, 0]</td>\n",
              "      <td>[5, 1, 1]</td>\n",
              "      <td>[0, 0, 0]</td>\n",
              "      <td>[3, 3, 0]</td>\n",
              "      <td>[4, 0, 3]</td>\n",
              "      <td>[0, 0, 0]</td>\n",
              "      <td>[0, 0, 0]</td>\n",
              "      <td>[0, 0, 0]</td>\n",
              "      <td>[0, 1, 1]</td>\n",
              "      <td>[2, 2, 1]</td>\n",
              "      <td>[3, 0, 0]</td>\n",
              "      <td>[0, 0, 0]</td>\n",
              "      <td>[0, 0, 0]</td>\n",
              "      <td>[0, 0, 0]</td>\n",
              "      <td>[0, 0, 0]</td>\n",
              "      <td>[0, 0, 0]</td>\n",
              "      <td>[0, 0, 0]</td>\n",
              "      <td>[1, 0, 0]</td>\n",
              "      <td>[5, 0, 0]</td>\n",
              "      <td>[0, 2, 0]</td>\n",
              "      <td>[5, 0, 0]</td>\n",
              "      <td>[0, 0, 0]</td>\n",
              "      <td>[0, 1, 0]</td>\n",
              "      <td>[0, 1, 0]</td>\n",
              "      <td>[0, 0, 0]</td>\n",
              "      <td>[0, 2, 0]</td>\n",
              "      <td>[3, 1, 1]</td>\n",
              "      <td>[1, 0, 0]</td>\n",
              "      <td>[0, 0, 0]</td>\n",
              "      <td>[0, 0, 3]</td>\n",
              "      <td>[0, 0, 0]</td>\n",
              "      <td>[0, 0, 0]</td>\n",
              "      <td>[2, 2, 0]</td>\n",
              "      <td>[0, 0, 0]</td>\n",
              "      <td>[0, 0, 0]</td>\n",
              "      <td>...</td>\n",
              "      <td>[0, 0, 0]</td>\n",
              "      <td>[0, 0, 0]</td>\n",
              "      <td>[0, 0, 0]</td>\n",
              "      <td>[0, 0, 1]</td>\n",
              "      <td>[0, 0, 0]</td>\n",
              "      <td>[5, 0, 3]</td>\n",
              "      <td>[5, 1, 4]</td>\n",
              "      <td>[0, 0, 2]</td>\n",
              "      <td>[0, 0, 1]</td>\n",
              "      <td>[0, 0, 0]</td>\n",
              "      <td>[0, 4, 0]</td>\n",
              "      <td>[0, 3, 0]</td>\n",
              "      <td>[0, 2, 0]</td>\n",
              "      <td>[0, 0, 5]</td>\n",
              "      <td>[0, 0, 2]</td>\n",
              "      <td>[0, 2, 0]</td>\n",
              "      <td>[2, 0, 0]</td>\n",
              "      <td>[1, 0, 0]</td>\n",
              "      <td>[0, 0, 0]</td>\n",
              "      <td>[1, 5, 5]</td>\n",
              "      <td>[5, 0, 5]</td>\n",
              "      <td>[2, 0, 0]</td>\n",
              "      <td>[0, 0, 1]</td>\n",
              "      <td>[0, 0, 4]</td>\n",
              "      <td>[0, 0, 0]</td>\n",
              "      <td>[1, 0, 1]</td>\n",
              "      <td>[0, 0, 1]</td>\n",
              "      <td>[0, 0, 0]</td>\n",
              "      <td>[0, 3, 0]</td>\n",
              "      <td>[0, 0, 0]</td>\n",
              "      <td>[0, 0, 0]</td>\n",
              "      <td>[5, 0, 5]</td>\n",
              "      <td>[0, 0, 0]</td>\n",
              "      <td>[0, 1, 1]</td>\n",
              "      <td>[2, 0, 0]</td>\n",
              "      <td>[2, 5, 0]</td>\n",
              "      <td>[0, 0, 0]</td>\n",
              "      <td>[0, 1, 0]</td>\n",
              "      <td>[1, 0, 0]</td>\n",
              "      <td>[0, 0, 3]</td>\n",
              "    </tr>\n",
              "    <tr>\n",
              "      <th>tweet_url</th>\n",
              "      <td>https://twitter.com/user/status/11146793537140...</td>\n",
              "      <td>https://twitter.com/user/status/10630200488166...</td>\n",
              "      <td>https://twitter.com/user/status/11089273680753...</td>\n",
              "      <td>https://twitter.com/user/status/11145585346356...</td>\n",
              "      <td>https://twitter.com/user/status/10352524802155...</td>\n",
              "      <td>https://twitter.com/user/status/11069782196543...</td>\n",
              "      <td>https://twitter.com/user/status/11139200435684...</td>\n",
              "      <td>https://twitter.com/user/status/11145886176939...</td>\n",
              "      <td>https://twitter.com/user/status/10458095147406...</td>\n",
              "      <td>https://twitter.com/user/status/11081784539106...</td>\n",
              "      <td>https://twitter.com/user/status/11167024480165...</td>\n",
              "      <td>https://twitter.com/user/status/11146667574977...</td>\n",
              "      <td>https://twitter.com/user/status/11096131758618...</td>\n",
              "      <td>https://twitter.com/user/status/11077890477312...</td>\n",
              "      <td>https://twitter.com/user/status/11149181924035...</td>\n",
              "      <td>https://twitter.com/user/status/11163927057168...</td>\n",
              "      <td>https://twitter.com/user/status/10504776881949...</td>\n",
              "      <td>https://twitter.com/user/status/11135307227892...</td>\n",
              "      <td>https://twitter.com/user/status/11077957830663...</td>\n",
              "      <td>https://twitter.com/user/status/11135558158294...</td>\n",
              "      <td>https://twitter.com/user/status/11065800199361...</td>\n",
              "      <td>https://twitter.com/user/status/11080931451228...</td>\n",
              "      <td>https://twitter.com/user/status/10551766086240...</td>\n",
              "      <td>https://twitter.com/user/status/11153002610885...</td>\n",
              "      <td>https://twitter.com/user/status/10580469930445...</td>\n",
              "      <td>https://twitter.com/user/status/10538498963091...</td>\n",
              "      <td>https://twitter.com/user/status/10445960790424...</td>\n",
              "      <td>https://twitter.com/user/status/11131455689546...</td>\n",
              "      <td>https://twitter.com/user/status/11051741674885...</td>\n",
              "      <td>https://twitter.com/user/status/11096532814358...</td>\n",
              "      <td>https://twitter.com/user/status/11091669046006...</td>\n",
              "      <td>https://twitter.com/user/status/10370477465936...</td>\n",
              "      <td>https://twitter.com/user/status/11076617822298...</td>\n",
              "      <td>https://twitter.com/user/status/11072604048105...</td>\n",
              "      <td>https://twitter.com/user/status/11088725782345...</td>\n",
              "      <td>https://twitter.com/user/status/11165322299607...</td>\n",
              "      <td>https://twitter.com/user/status/11175300641308...</td>\n",
              "      <td>https://twitter.com/user/status/10609970544728...</td>\n",
              "      <td>https://twitter.com/user/status/11092106225022...</td>\n",
              "      <td>https://twitter.com/user/status/11152756294763...</td>\n",
              "      <td>...</td>\n",
              "      <td>https://twitter.com/user/status/10570885832769...</td>\n",
              "      <td>https://twitter.com/user/status/11158614039052...</td>\n",
              "      <td>https://twitter.com/user/status/11165286096095...</td>\n",
              "      <td>https://twitter.com/user/status/11065969181872...</td>\n",
              "      <td>https://twitter.com/user/status/11131131111611...</td>\n",
              "      <td>https://twitter.com/user/status/10534551677467...</td>\n",
              "      <td>https://twitter.com/user/status/10458450475335...</td>\n",
              "      <td>https://twitter.com/user/status/11143158528899...</td>\n",
              "      <td>https://twitter.com/user/status/11160366059938...</td>\n",
              "      <td>https://twitter.com/user/status/11094884737513...</td>\n",
              "      <td>https://twitter.com/user/status/11100277192600...</td>\n",
              "      <td>https://twitter.com/user/status/10422576929479...</td>\n",
              "      <td>https://twitter.com/user/status/10614683531585...</td>\n",
              "      <td>https://twitter.com/user/status/10575121503721...</td>\n",
              "      <td>https://twitter.com/user/status/11132216076176...</td>\n",
              "      <td>https://twitter.com/user/status/11134646099759...</td>\n",
              "      <td>https://twitter.com/user/status/11094965918435...</td>\n",
              "      <td>https://twitter.com/user/status/11091389799773...</td>\n",
              "      <td>https://twitter.com/user/status/11151022270713...</td>\n",
              "      <td>https://twitter.com/user/status/10445979350052...</td>\n",
              "      <td>https://twitter.com/user/status/10250297020152...</td>\n",
              "      <td>https://twitter.com/user/status/11091186495609...</td>\n",
              "      <td>https://twitter.com/user/status/11088145368182...</td>\n",
              "      <td>https://twitter.com/user/status/11159921407215...</td>\n",
              "      <td>https://twitter.com/user/status/10636089449193...</td>\n",
              "      <td>https://twitter.com/user/status/10565954452150...</td>\n",
              "      <td>https://twitter.com/user/status/11076141187255...</td>\n",
              "      <td>https://twitter.com/user/status/11057225556866...</td>\n",
              "      <td>https://twitter.com/user/status/11134214009230...</td>\n",
              "      <td>https://twitter.com/user/status/11073878935412...</td>\n",
              "      <td>https://twitter.com/user/status/11165348122637...</td>\n",
              "      <td>https://twitter.com/user/status/10621619487485...</td>\n",
              "      <td>https://twitter.com/user/status/11073923078154...</td>\n",
              "      <td>https://twitter.com/user/status/11054655525443...</td>\n",
              "      <td>https://twitter.com/user/status/11140660310714...</td>\n",
              "      <td>https://twitter.com/user/status/11141707344720...</td>\n",
              "      <td>https://twitter.com/user/status/11103681987868...</td>\n",
              "      <td>https://twitter.com/user/status/11069418585408...</td>\n",
              "      <td>https://twitter.com/user/status/11052683092331...</td>\n",
              "      <td>https://twitter.com/user/status/11146535143645...</td>\n",
              "    </tr>\n",
              "    <tr>\n",
              "      <th>tweet_text</th>\n",
              "      <td>@FriskDontMiss Nigga https://t.co/cAsaLWEpue</td>\n",
              "      <td>My horses are retarded https://t.co/HYhqc6d5WN</td>\n",
              "      <td>“NIGGA ON MA MOMMA YOUNGBOY BE SPITTING REAL S...</td>\n",
              "      <td>RT xxSuGVNGxx: I ran into this HOLY NIGGA TODA...</td>\n",
              "      <td>“EVERYbody calling you Nigger now!” https://t....</td>\n",
              "      <td>“ real ass bitch give a fuck boutta nigga” htt...</td>\n",
              "      <td>@WhiteHouse @realDonaldTrump Fuck ice. White s...</td>\n",
              "      <td>Day’s a cunt https://t.co/Ie6QZReHsw</td>\n",
              "      <td>#sissy faggot https://t.co/bm1nk8HcYO</td>\n",
              "      <td>@Gloriko_ Nigga what? https://t.co/nOwIJtgtU1</td>\n",
              "      <td>@DefNotJerm So.... you turn to twitter for it ...</td>\n",
              "      <td>@WhatUpJT I swear I was waiting for her to mou...</td>\n",
              "      <td>I’m 💯 behind you nigga u my thug brother🖤 http...</td>\n",
              "      <td>Who dafuqq is this nigga https://t.co/D6YwVyGjNZ</td>\n",
              "      <td>bf: move your bighead 😅😂  gf: NIGGA WHAT?? THA...</td>\n",
              "      <td>@OriginalSlimC This fat nigga slander is getti...</td>\n",
              "      <td>#ecofascist @SierraClub is just another nest f...</td>\n",
              "      <td>When a android nigga wanna talk about phone ba...</td>\n",
              "      <td>@FreedomzWriterx Check out this nigger😭 https:...</td>\n",
              "      <td>Dat nigga my homie 3️⃣ https://t.co/rO9DYggULq</td>\n",
              "      <td>@SplashIQ Imagine a nigga first time messaging...</td>\n",
              "      <td>🎶 Phantom Power Music 🎶 \"Never Surrender\" http...</td>\n",
              "      <td>NIGGA. Wya? https://t.co/weesxKtWqG</td>\n",
              "      <td>carol really said fuck yall I’m a dyke and I’m...</td>\n",
              "      <td>motivation from my favorite twat ❤️🍞🏃🏻‍♂️ http...</td>\n",
              "      <td>@until1mil Mike was a twat, cocky son of a B t...</td>\n",
              "      <td>And I said his 29 not 30 cos his 29 but this t...</td>\n",
              "      <td>@HBCUfessions Ask a nigga to do it😂 https://t....</td>\n",
              "      <td>@Biisi96 Pamilerin be like after seeing this: ...</td>\n",
              "      <td>@alexissdiamondd It’s definitely YOU nigga 😂 h...</td>\n",
              "      <td>@DanDr0y Lydia just called this man a cunt. ht...</td>\n",
              "      <td>@machinegunkelly and @lilxanfuhyobih are the J...</td>\n",
              "      <td>@Rurikhan Remember Ruri. Dwarves are stubborn....</td>\n",
              "      <td>I’m really about to fight my cousin @Pharaoh_M...</td>\n",
              "      <td>i fucked up, my response was too faggot like, ...</td>\n",
              "      <td>@elijahhorton94 Netflix we coming for you nigg...</td>\n",
              "      <td>The ice cream truck nigga was like 🚐💨💨💨💨💨 http...</td>\n",
              "      <td>Fuck u England u little twat! https://t.co/zfY...</td>\n",
              "      <td>SHE NACHOS.  IT'S JUST YOUR TURN NIGGA.  Dumb ...</td>\n",
              "      <td>@BF_Flipsta @JazTheRapper nigga got them: http...</td>\n",
              "      <td>...</td>\n",
              "      <td>Omg I’m a dyke that’s what it is https://t.co/...</td>\n",
              "      <td>@YassuoNA @floaromaa Moe goin retarded for som...</td>\n",
              "      <td>Ain’t No MuthaFuckin Slime Nigga Dis Dat Spide...</td>\n",
              "      <td>@random_tt_ dont care about what that anorexic...</td>\n",
              "      <td>They be like family first naw bitch loyalty fi...</td>\n",
              "      <td>Bruh, Ron Baker looks like the third Paul brot...</td>\n",
              "      <td>Arab Spring's Legacy:  Islamist Gang Terror  #...</td>\n",
              "      <td>She came baring goodies 🥺🥺🤗🤗❤️ @whynopromises ...</td>\n",
              "      <td>@chocolatewingz1 okay damn the nigga had an eg...</td>\n",
              "      <td>Go out for sneaky beer after work and this cun...</td>\n",
              "      <td>This nigga @OnlyEaux really a one man band htt...</td>\n",
              "      <td>Carly Beth can say faggot https://t.co/XPp6HFYKds</td>\n",
              "      <td>Caught my nigga @KXNGJXNES  slipping tho 😂😂😂 h...</td>\n",
              "      <td>#PUBGMOBILE You went full retard man, never go...</td>\n",
              "      <td>this lame ass nigga don’t believe I watch anim...</td>\n",
              "      <td>The nigga who is fvcking my ex needs to do a b...</td>\n",
              "      <td>had a nigga try to play me now he get the mess...</td>\n",
              "      <td>I just want a nigga to love and respect me lik...</td>\n",
              "      <td>@OGAlexis7 This anit it sis that one nigga ton...</td>\n",
              "      <td>When she rolled her sleeves up I knew this int...</td>\n",
              "      <td>BREAKING:  Woman at trump rally screams at her...</td>\n",
              "      <td>@norvina1 What does a hillbilly call a one-eye...</td>\n",
              "      <td>@Patzini14 I really and truly just tryna push ...</td>\n",
              "      <td>A nigga's first Chick Fil A https://t.co/bPANo...</td>\n",
              "      <td>SJW Blackmailed Into Submission https://t.co/D...</td>\n",
              "      <td>New Video: Spice – Black Hypocrisy https://t.c...</td>\n",
              "      <td>It’s too damn early for this nigga to be doing...</td>\n",
              "      <td>id surrender who ive been for who you are. htt...</td>\n",
              "      <td>Canadiens keep pace in East wild-card race wit...</td>\n",
              "      <td>@EcholsEli Nigga Ricardo literally givin out n...</td>\n",
              "      <td>@urfavignantngga Salty ass nigga. Lol 🤣🤣🤣🤣 htt...</td>\n",
              "      <td>@MSNBC @KellyannePolls Ann shut up you mentall...</td>\n",
              "      <td>@jumpmanjimin oh u know i’m too much a real ni...</td>\n",
              "      <td>@quisLaFlare Good luck my nigga 🤘🏾 https://t.c...</td>\n",
              "      <td>Thanks \"— retarded\" For Following Me !!! https...</td>\n",
              "      <td>@svdate @gtconway3d I would just say hes Donny...</td>\n",
              "      <td>@Cheftime_Dev congrats my nigga keep on grindi...</td>\n",
              "      <td>My nigga big shitty https://t.co/e0snJGBgH9</td>\n",
              "      <td>did she just say “my nigga” to Rich? &amp;amp; she...</td>\n",
              "      <td>This nigga Joe Budden said thanos got a galact...</td>\n",
              "    </tr>\n",
              "    <tr>\n",
              "      <th>labels_str</th>\n",
              "      <td>[Religion, Racist, Homophobe]</td>\n",
              "      <td>[OtherHate, OtherHate, OtherHate]</td>\n",
              "      <td>[NotHate, NotHate, NotHate]</td>\n",
              "      <td>[Racist, NotHate, NotHate]</td>\n",
              "      <td>[Racist, NotHate, Racist]</td>\n",
              "      <td>[NotHate, NotHate, NotHate]</td>\n",
              "      <td>[OtherHate, Racist, Racist]</td>\n",
              "      <td>[NotHate, NotHate, NotHate]</td>\n",
              "      <td>[Homophobe, Homophobe, NotHate]</td>\n",
              "      <td>[Religion, NotHate, Homophobe]</td>\n",
              "      <td>[NotHate, NotHate, NotHate]</td>\n",
              "      <td>[NotHate, NotHate, NotHate]</td>\n",
              "      <td>[NotHate, NotHate, NotHate]</td>\n",
              "      <td>[NotHate, Racist, Racist]</td>\n",
              "      <td>[Sexist, Sexist, Racist]</td>\n",
              "      <td>[Homophobe, NotHate, NotHate]</td>\n",
              "      <td>[NotHate, NotHate, NotHate]</td>\n",
              "      <td>[NotHate, NotHate, NotHate]</td>\n",
              "      <td>[NotHate, NotHate, NotHate]</td>\n",
              "      <td>[NotHate, NotHate, NotHate]</td>\n",
              "      <td>[NotHate, NotHate, NotHate]</td>\n",
              "      <td>[NotHate, NotHate, NotHate]</td>\n",
              "      <td>[Racist, NotHate, NotHate]</td>\n",
              "      <td>[OtherHate, NotHate, NotHate]</td>\n",
              "      <td>[NotHate, Sexist, NotHate]</td>\n",
              "      <td>[OtherHate, NotHate, NotHate]</td>\n",
              "      <td>[NotHate, NotHate, NotHate]</td>\n",
              "      <td>[NotHate, Racist, NotHate]</td>\n",
              "      <td>[NotHate, Racist, NotHate]</td>\n",
              "      <td>[NotHate, NotHate, NotHate]</td>\n",
              "      <td>[NotHate, Sexist, NotHate]</td>\n",
              "      <td>[Homophobe, Racist, Racist]</td>\n",
              "      <td>[Racist, NotHate, NotHate]</td>\n",
              "      <td>[NotHate, NotHate, NotHate]</td>\n",
              "      <td>[NotHate, NotHate, Homophobe]</td>\n",
              "      <td>[NotHate, NotHate, NotHate]</td>\n",
              "      <td>[NotHate, NotHate, NotHate]</td>\n",
              "      <td>[Sexist, Sexist, NotHate]</td>\n",
              "      <td>[NotHate, NotHate, NotHate]</td>\n",
              "      <td>[NotHate, NotHate, NotHate]</td>\n",
              "      <td>...</td>\n",
              "      <td>[NotHate, NotHate, NotHate]</td>\n",
              "      <td>[NotHate, NotHate, NotHate]</td>\n",
              "      <td>[NotHate, NotHate, NotHate]</td>\n",
              "      <td>[NotHate, NotHate, Racist]</td>\n",
              "      <td>[NotHate, NotHate, NotHate]</td>\n",
              "      <td>[OtherHate, NotHate, Homophobe]</td>\n",
              "      <td>[OtherHate, Racist, Religion]</td>\n",
              "      <td>[NotHate, NotHate, Sexist]</td>\n",
              "      <td>[NotHate, NotHate, Racist]</td>\n",
              "      <td>[NotHate, NotHate, NotHate]</td>\n",
              "      <td>[NotHate, Religion, NotHate]</td>\n",
              "      <td>[NotHate, Homophobe, NotHate]</td>\n",
              "      <td>[NotHate, Sexist, NotHate]</td>\n",
              "      <td>[NotHate, NotHate, OtherHate]</td>\n",
              "      <td>[NotHate, NotHate, Sexist]</td>\n",
              "      <td>[NotHate, Sexist, NotHate]</td>\n",
              "      <td>[Sexist, NotHate, NotHate]</td>\n",
              "      <td>[Racist, NotHate, NotHate]</td>\n",
              "      <td>[NotHate, NotHate, NotHate]</td>\n",
              "      <td>[Racist, OtherHate, OtherHate]</td>\n",
              "      <td>[OtherHate, NotHate, OtherHate]</td>\n",
              "      <td>[Sexist, NotHate, NotHate]</td>\n",
              "      <td>[NotHate, NotHate, Racist]</td>\n",
              "      <td>[NotHate, NotHate, Religion]</td>\n",
              "      <td>[NotHate, NotHate, NotHate]</td>\n",
              "      <td>[Racist, NotHate, Racist]</td>\n",
              "      <td>[NotHate, NotHate, Racist]</td>\n",
              "      <td>[NotHate, NotHate, NotHate]</td>\n",
              "      <td>[NotHate, Homophobe, NotHate]</td>\n",
              "      <td>[NotHate, NotHate, NotHate]</td>\n",
              "      <td>[NotHate, NotHate, NotHate]</td>\n",
              "      <td>[OtherHate, NotHate, OtherHate]</td>\n",
              "      <td>[NotHate, NotHate, NotHate]</td>\n",
              "      <td>[NotHate, Racist, Racist]</td>\n",
              "      <td>[Sexist, NotHate, NotHate]</td>\n",
              "      <td>[Sexist, OtherHate, NotHate]</td>\n",
              "      <td>[NotHate, NotHate, NotHate]</td>\n",
              "      <td>[NotHate, Racist, NotHate]</td>\n",
              "      <td>[Racist, NotHate, NotHate]</td>\n",
              "      <td>[NotHate, NotHate, Homophobe]</td>\n",
              "    </tr>\n",
              "  </tbody>\n",
              "</table>\n",
              "<p>5 rows × 149823 columns</p>\n",
              "</div>"
            ],
            "text/plain": [
              "                                2005-04-28 09:09:13.714016256  ...                      2005-04-28 01:58:34.364530691\n",
              "img_url     http://pbs.twimg.com/tweet_video_thumb/D3gi9MH...  ...     http://pbs.twimg.com/media/D3gLdL0W0AENzVJ.jpg\n",
              "labels                                              [4, 1, 3]  ...                                          [0, 0, 3]\n",
              "tweet_url   https://twitter.com/user/status/11146793537140...  ...  https://twitter.com/user/status/11146535143645...\n",
              "tweet_text       @FriskDontMiss Nigga https://t.co/cAsaLWEpue  ...  This nigga Joe Budden said thanos got a galact...\n",
              "labels_str                      [Religion, Racist, Homophobe]  ...                      [NotHate, NotHate, Homophobe]\n",
              "\n",
              "[5 rows x 149823 columns]"
            ]
          },
          "metadata": {
            "tags": []
          },
          "execution_count": 3
        }
      ]
    },
    {
      "cell_type": "markdown",
      "metadata": {
        "id": "B7B_0XoSRbSp"
      },
      "source": [
        "Let me then transpose the data in order to have the different properties as columns"
      ]
    },
    {
      "cell_type": "code",
      "metadata": {
        "id": "lx_-1KgccKUh"
      },
      "source": [
        "data_t = data.T"
      ],
      "execution_count": null,
      "outputs": []
    },
    {
      "cell_type": "code",
      "metadata": {
        "colab": {
          "base_uri": "https://localhost:8080/",
          "height": 597
        },
        "id": "EKJ2jNnqcKUk",
        "outputId": "0991641d-68ff-444c-ce69-61b14d238689"
      },
      "source": [
        "data_t"
      ],
      "execution_count": null,
      "outputs": [
        {
          "output_type": "execute_result",
          "data": {
            "text/html": [
              "<div>\n",
              "<style scoped>\n",
              "    .dataframe tbody tr th:only-of-type {\n",
              "        vertical-align: middle;\n",
              "    }\n",
              "\n",
              "    .dataframe tbody tr th {\n",
              "        vertical-align: top;\n",
              "    }\n",
              "\n",
              "    .dataframe thead th {\n",
              "        text-align: right;\n",
              "    }\n",
              "</style>\n",
              "<table border=\"1\" class=\"dataframe\">\n",
              "  <thead>\n",
              "    <tr style=\"text-align: right;\">\n",
              "      <th></th>\n",
              "      <th>img_url</th>\n",
              "      <th>labels</th>\n",
              "      <th>tweet_url</th>\n",
              "      <th>tweet_text</th>\n",
              "      <th>labels_str</th>\n",
              "    </tr>\n",
              "  </thead>\n",
              "  <tbody>\n",
              "    <tr>\n",
              "      <th>2005-04-28 09:09:13.714016256</th>\n",
              "      <td>http://pbs.twimg.com/tweet_video_thumb/D3gi9MH...</td>\n",
              "      <td>[4, 1, 3]</td>\n",
              "      <td>https://twitter.com/user/status/11146793537140...</td>\n",
              "      <td>@FriskDontMiss Nigga https://t.co/cAsaLWEpue</td>\n",
              "      <td>[Religion, Racist, Homophobe]</td>\n",
              "    </tr>\n",
              "    <tr>\n",
              "      <th>2003-09-08 11:20:48.816660480</th>\n",
              "      <td>http://pbs.twimg.com/ext_tw_video_thumb/106301...</td>\n",
              "      <td>[5, 5, 5]</td>\n",
              "      <td>https://twitter.com/user/status/10630200488166...</td>\n",
              "      <td>My horses are retarded https://t.co/HYhqc6d5WN</td>\n",
              "      <td>[OtherHate, OtherHate, OtherHate]</td>\n",
              "    </tr>\n",
              "    <tr>\n",
              "      <th>2005-02-20 19:22:48.075374593</th>\n",
              "      <td>http://pbs.twimg.com/media/D2OzhzHUwAADQjd.jpg</td>\n",
              "      <td>[0, 0, 0]</td>\n",
              "      <td>https://twitter.com/user/status/11089273680753...</td>\n",
              "      <td>“NIGGA ON MA MOMMA YOUNGBOY BE SPITTING REAL S...</td>\n",
              "      <td>[NotHate, NotHate, NotHate]</td>\n",
              "    </tr>\n",
              "    <tr>\n",
              "      <th>2005-04-26 23:35:34.635618305</th>\n",
              "      <td>http://pbs.twimg.com/ext_tw_video_thumb/111401...</td>\n",
              "      <td>[1, 0, 0]</td>\n",
              "      <td>https://twitter.com/user/status/11145585346356...</td>\n",
              "      <td>RT xxSuGVNGxx: I ran into this HOLY NIGGA TODA...</td>\n",
              "      <td>[Racist, NotHate, NotHate]</td>\n",
              "    </tr>\n",
              "    <tr>\n",
              "      <th>2002-10-22 02:08:00.215592966</th>\n",
              "      <td>http://pbs.twimg.com/media/Dl30pGIU8AAVGxO.jpg</td>\n",
              "      <td>[1, 0, 1]</td>\n",
              "      <td>https://twitter.com/user/status/10352524802155...</td>\n",
              "      <td>“EVERYbody calling you Nigger now!” https://t....</td>\n",
              "      <td>[Racist, NotHate, Racist]</td>\n",
              "    </tr>\n",
              "    <tr>\n",
              "      <th>...</th>\n",
              "      <td>...</td>\n",
              "      <td>...</td>\n",
              "      <td>...</td>\n",
              "      <td>...</td>\n",
              "      <td>...</td>\n",
              "    </tr>\n",
              "    <tr>\n",
              "      <th>2005-04-22 11:52:14.472048640</th>\n",
              "      <td>http://pbs.twimg.com/tweet_video_thumb/D3ZUXNw...</td>\n",
              "      <td>[2, 5, 0]</td>\n",
              "      <td>https://twitter.com/user/status/11141707344720...</td>\n",
              "      <td>@svdate @gtconway3d I would just say hes Donny...</td>\n",
              "      <td>[Sexist, OtherHate, NotHate]</td>\n",
              "    </tr>\n",
              "    <tr>\n",
              "      <th>2005-03-09 11:36:38.786846720</th>\n",
              "      <td>http://pbs.twimg.com/ext_tw_video_thumb/111036...</td>\n",
              "      <td>[0, 0, 0]</td>\n",
              "      <td>https://twitter.com/user/status/11103681987868...</td>\n",
              "      <td>@Cheftime_Dev congrats my nigga keep on grindi...</td>\n",
              "      <td>[NotHate, NotHate, NotHate]</td>\n",
              "    </tr>\n",
              "    <tr>\n",
              "      <th>2005-01-28 19:50:58.540851200</th>\n",
              "      <td>http://pbs.twimg.com/media/D1yluGmXgAEKNG5.jpg</td>\n",
              "      <td>[0, 1, 0]</td>\n",
              "      <td>https://twitter.com/user/status/11069418585408...</td>\n",
              "      <td>My nigga big shitty https://t.co/e0snJGBgH9</td>\n",
              "      <td>[NotHate, Racist, NotHate]</td>\n",
              "    </tr>\n",
              "    <tr>\n",
              "      <th>2005-01-09 10:58:29.233188865</th>\n",
              "      <td>http://pbs.twimg.com/tweet_video_thumb/D1azqiz...</td>\n",
              "      <td>[1, 0, 0]</td>\n",
              "      <td>https://twitter.com/user/status/11052683092331...</td>\n",
              "      <td>did she just say “my nigga” to Rich? &amp;amp; she...</td>\n",
              "      <td>[Racist, NotHate, NotHate]</td>\n",
              "    </tr>\n",
              "    <tr>\n",
              "      <th>2005-04-28 01:58:34.364530691</th>\n",
              "      <td>http://pbs.twimg.com/media/D3gLdL0W0AENzVJ.jpg</td>\n",
              "      <td>[0, 0, 3]</td>\n",
              "      <td>https://twitter.com/user/status/11146535143645...</td>\n",
              "      <td>This nigga Joe Budden said thanos got a galact...</td>\n",
              "      <td>[NotHate, NotHate, Homophobe]</td>\n",
              "    </tr>\n",
              "  </tbody>\n",
              "</table>\n",
              "<p>149823 rows × 5 columns</p>\n",
              "</div>"
            ],
            "text/plain": [
              "                                                                         img_url  ...                         labels_str\n",
              "2005-04-28 09:09:13.714016256  http://pbs.twimg.com/tweet_video_thumb/D3gi9MH...  ...      [Religion, Racist, Homophobe]\n",
              "2003-09-08 11:20:48.816660480  http://pbs.twimg.com/ext_tw_video_thumb/106301...  ...  [OtherHate, OtherHate, OtherHate]\n",
              "2005-02-20 19:22:48.075374593     http://pbs.twimg.com/media/D2OzhzHUwAADQjd.jpg  ...        [NotHate, NotHate, NotHate]\n",
              "2005-04-26 23:35:34.635618305  http://pbs.twimg.com/ext_tw_video_thumb/111401...  ...         [Racist, NotHate, NotHate]\n",
              "2002-10-22 02:08:00.215592966     http://pbs.twimg.com/media/Dl30pGIU8AAVGxO.jpg  ...          [Racist, NotHate, Racist]\n",
              "...                                                                          ...  ...                                ...\n",
              "2005-04-22 11:52:14.472048640  http://pbs.twimg.com/tweet_video_thumb/D3ZUXNw...  ...       [Sexist, OtherHate, NotHate]\n",
              "2005-03-09 11:36:38.786846720  http://pbs.twimg.com/ext_tw_video_thumb/111036...  ...        [NotHate, NotHate, NotHate]\n",
              "2005-01-28 19:50:58.540851200     http://pbs.twimg.com/media/D1yluGmXgAEKNG5.jpg  ...         [NotHate, Racist, NotHate]\n",
              "2005-01-09 10:58:29.233188865  http://pbs.twimg.com/tweet_video_thumb/D1azqiz...  ...         [Racist, NotHate, NotHate]\n",
              "2005-04-28 01:58:34.364530691     http://pbs.twimg.com/media/D3gLdL0W0AENzVJ.jpg  ...      [NotHate, NotHate, Homophobe]\n",
              "\n",
              "[149823 rows x 5 columns]"
            ]
          },
          "metadata": {
            "tags": []
          },
          "execution_count": 5
        }
      ]
    },
    {
      "cell_type": "markdown",
      "metadata": {
        "id": "MqctMY1EcKUm"
      },
      "source": [
        "## Compress labels"
      ]
    },
    {
      "cell_type": "markdown",
      "metadata": {
        "id": "JaFD1lW4RgtD"
      },
      "source": [
        "Each label is composed by the judgement of three different judges. In order to obtain a single classification property, I decided to \"compress\" these judgements in a single one. Following the adopted strategy: \r\n",
        "\r\n",
        "\r\n",
        "\r\n",
        "1.   If at least two judges agree on the same classification I take this as the selected one (majority voting)\r\n",
        "2.   If they all provided different classification then I consider if at least two of them were considering the post as a hate speech one (not clean). In this case the post is labelled as \"general hate speech\"\r\n",
        "3.   Otherwise the post is considered clean\r\n",
        "\r\n"
      ]
    },
    {
      "cell_type": "code",
      "metadata": {
        "id": "90uoYvtkcKUn"
      },
      "source": [
        "def compress_labels(row):\n",
        "    \n",
        "    #get list of labels\n",
        "    labs_list = row[\"labels\"]\n",
        "    \n",
        "    #get the most common label\n",
        "    most_common = Counter(labs_list).most_common(1)\n",
        "    \n",
        "    #set default label to non-hate\n",
        "    label = 0\n",
        "    \n",
        "    #if at least two reviewers agree on a label set it\n",
        "    if most_common[0][1] > 1:\n",
        "        label = most_common[0][0]\n",
        "    elif sum(labs_list) >= 2: #else if they all give different labels but at least two are hate labels\n",
        "        label = 5 #general other hate category\n",
        "    \n",
        "    return label"
      ],
      "execution_count": null,
      "outputs": []
    },
    {
      "cell_type": "markdown",
      "metadata": {
        "id": "cgiJHuiOSXS7"
      },
      "source": [
        "The function is the applied to the tweets judgement and their text is converted to lowercases for simplicity. "
      ]
    },
    {
      "cell_type": "code",
      "metadata": {
        "id": "QEP8fTFEcKUo"
      },
      "source": [
        "data_t['single_label'] = data_t.apply(compress_labels,axis = 1)"
      ],
      "execution_count": null,
      "outputs": []
    },
    {
      "cell_type": "code",
      "metadata": {
        "id": "KpSzX8kakxsH"
      },
      "source": [
        "data_t['tweet_text'] = data_t['tweet_text'].str.lower()"
      ],
      "execution_count": null,
      "outputs": []
    },
    {
      "cell_type": "code",
      "metadata": {
        "colab": {
          "base_uri": "https://localhost:8080/",
          "height": 597
        },
        "id": "twhnPSxucKUp",
        "outputId": "de977169-382a-4370-aa9f-a1d4145e9e77"
      },
      "source": [
        "data_t"
      ],
      "execution_count": null,
      "outputs": [
        {
          "output_type": "execute_result",
          "data": {
            "text/html": [
              "<div>\n",
              "<style scoped>\n",
              "    .dataframe tbody tr th:only-of-type {\n",
              "        vertical-align: middle;\n",
              "    }\n",
              "\n",
              "    .dataframe tbody tr th {\n",
              "        vertical-align: top;\n",
              "    }\n",
              "\n",
              "    .dataframe thead th {\n",
              "        text-align: right;\n",
              "    }\n",
              "</style>\n",
              "<table border=\"1\" class=\"dataframe\">\n",
              "  <thead>\n",
              "    <tr style=\"text-align: right;\">\n",
              "      <th></th>\n",
              "      <th>img_url</th>\n",
              "      <th>labels</th>\n",
              "      <th>tweet_url</th>\n",
              "      <th>tweet_text</th>\n",
              "      <th>labels_str</th>\n",
              "      <th>single_label</th>\n",
              "    </tr>\n",
              "  </thead>\n",
              "  <tbody>\n",
              "    <tr>\n",
              "      <th>2005-04-28 09:09:13.714016256</th>\n",
              "      <td>http://pbs.twimg.com/tweet_video_thumb/D3gi9MH...</td>\n",
              "      <td>[4, 1, 3]</td>\n",
              "      <td>https://twitter.com/user/status/11146793537140...</td>\n",
              "      <td>@friskdontmiss nigga https://t.co/casalwepue</td>\n",
              "      <td>[Religion, Racist, Homophobe]</td>\n",
              "      <td>5</td>\n",
              "    </tr>\n",
              "    <tr>\n",
              "      <th>2003-09-08 11:20:48.816660480</th>\n",
              "      <td>http://pbs.twimg.com/ext_tw_video_thumb/106301...</td>\n",
              "      <td>[5, 5, 5]</td>\n",
              "      <td>https://twitter.com/user/status/10630200488166...</td>\n",
              "      <td>my horses are retarded https://t.co/hyhqc6d5wn</td>\n",
              "      <td>[OtherHate, OtherHate, OtherHate]</td>\n",
              "      <td>5</td>\n",
              "    </tr>\n",
              "    <tr>\n",
              "      <th>2005-02-20 19:22:48.075374593</th>\n",
              "      <td>http://pbs.twimg.com/media/D2OzhzHUwAADQjd.jpg</td>\n",
              "      <td>[0, 0, 0]</td>\n",
              "      <td>https://twitter.com/user/status/11089273680753...</td>\n",
              "      <td>“nigga on ma momma youngboy be spitting real s...</td>\n",
              "      <td>[NotHate, NotHate, NotHate]</td>\n",
              "      <td>0</td>\n",
              "    </tr>\n",
              "    <tr>\n",
              "      <th>2005-04-26 23:35:34.635618305</th>\n",
              "      <td>http://pbs.twimg.com/ext_tw_video_thumb/111401...</td>\n",
              "      <td>[1, 0, 0]</td>\n",
              "      <td>https://twitter.com/user/status/11145585346356...</td>\n",
              "      <td>rt xxsugvngxx: i ran into this holy nigga toda...</td>\n",
              "      <td>[Racist, NotHate, NotHate]</td>\n",
              "      <td>0</td>\n",
              "    </tr>\n",
              "    <tr>\n",
              "      <th>2002-10-22 02:08:00.215592966</th>\n",
              "      <td>http://pbs.twimg.com/media/Dl30pGIU8AAVGxO.jpg</td>\n",
              "      <td>[1, 0, 1]</td>\n",
              "      <td>https://twitter.com/user/status/10352524802155...</td>\n",
              "      <td>“everybody calling you nigger now!” https://t....</td>\n",
              "      <td>[Racist, NotHate, Racist]</td>\n",
              "      <td>1</td>\n",
              "    </tr>\n",
              "    <tr>\n",
              "      <th>...</th>\n",
              "      <td>...</td>\n",
              "      <td>...</td>\n",
              "      <td>...</td>\n",
              "      <td>...</td>\n",
              "      <td>...</td>\n",
              "      <td>...</td>\n",
              "    </tr>\n",
              "    <tr>\n",
              "      <th>2005-04-22 11:52:14.472048640</th>\n",
              "      <td>http://pbs.twimg.com/tweet_video_thumb/D3ZUXNw...</td>\n",
              "      <td>[2, 5, 0]</td>\n",
              "      <td>https://twitter.com/user/status/11141707344720...</td>\n",
              "      <td>@svdate @gtconway3d i would just say hes donny...</td>\n",
              "      <td>[Sexist, OtherHate, NotHate]</td>\n",
              "      <td>5</td>\n",
              "    </tr>\n",
              "    <tr>\n",
              "      <th>2005-03-09 11:36:38.786846720</th>\n",
              "      <td>http://pbs.twimg.com/ext_tw_video_thumb/111036...</td>\n",
              "      <td>[0, 0, 0]</td>\n",
              "      <td>https://twitter.com/user/status/11103681987868...</td>\n",
              "      <td>@cheftime_dev congrats my nigga keep on grindi...</td>\n",
              "      <td>[NotHate, NotHate, NotHate]</td>\n",
              "      <td>0</td>\n",
              "    </tr>\n",
              "    <tr>\n",
              "      <th>2005-01-28 19:50:58.540851200</th>\n",
              "      <td>http://pbs.twimg.com/media/D1yluGmXgAEKNG5.jpg</td>\n",
              "      <td>[0, 1, 0]</td>\n",
              "      <td>https://twitter.com/user/status/11069418585408...</td>\n",
              "      <td>my nigga big shitty https://t.co/e0snjgbgh9</td>\n",
              "      <td>[NotHate, Racist, NotHate]</td>\n",
              "      <td>0</td>\n",
              "    </tr>\n",
              "    <tr>\n",
              "      <th>2005-01-09 10:58:29.233188865</th>\n",
              "      <td>http://pbs.twimg.com/tweet_video_thumb/D1azqiz...</td>\n",
              "      <td>[1, 0, 0]</td>\n",
              "      <td>https://twitter.com/user/status/11052683092331...</td>\n",
              "      <td>did she just say “my nigga” to rich? &amp;amp; she...</td>\n",
              "      <td>[Racist, NotHate, NotHate]</td>\n",
              "      <td>0</td>\n",
              "    </tr>\n",
              "    <tr>\n",
              "      <th>2005-04-28 01:58:34.364530691</th>\n",
              "      <td>http://pbs.twimg.com/media/D3gLdL0W0AENzVJ.jpg</td>\n",
              "      <td>[0, 0, 3]</td>\n",
              "      <td>https://twitter.com/user/status/11146535143645...</td>\n",
              "      <td>this nigga joe budden said thanos got a galact...</td>\n",
              "      <td>[NotHate, NotHate, Homophobe]</td>\n",
              "      <td>0</td>\n",
              "    </tr>\n",
              "  </tbody>\n",
              "</table>\n",
              "<p>149823 rows × 6 columns</p>\n",
              "</div>"
            ],
            "text/plain": [
              "                                                                         img_url  ... single_label\n",
              "2005-04-28 09:09:13.714016256  http://pbs.twimg.com/tweet_video_thumb/D3gi9MH...  ...            5\n",
              "2003-09-08 11:20:48.816660480  http://pbs.twimg.com/ext_tw_video_thumb/106301...  ...            5\n",
              "2005-02-20 19:22:48.075374593     http://pbs.twimg.com/media/D2OzhzHUwAADQjd.jpg  ...            0\n",
              "2005-04-26 23:35:34.635618305  http://pbs.twimg.com/ext_tw_video_thumb/111401...  ...            0\n",
              "2002-10-22 02:08:00.215592966     http://pbs.twimg.com/media/Dl30pGIU8AAVGxO.jpg  ...            1\n",
              "...                                                                          ...  ...          ...\n",
              "2005-04-22 11:52:14.472048640  http://pbs.twimg.com/tweet_video_thumb/D3ZUXNw...  ...            5\n",
              "2005-03-09 11:36:38.786846720  http://pbs.twimg.com/ext_tw_video_thumb/111036...  ...            0\n",
              "2005-01-28 19:50:58.540851200     http://pbs.twimg.com/media/D1yluGmXgAEKNG5.jpg  ...            0\n",
              "2005-01-09 10:58:29.233188865  http://pbs.twimg.com/tweet_video_thumb/D1azqiz...  ...            0\n",
              "2005-04-28 01:58:34.364530691     http://pbs.twimg.com/media/D3gLdL0W0AENzVJ.jpg  ...            0\n",
              "\n",
              "[149823 rows x 6 columns]"
            ]
          },
          "metadata": {
            "tags": []
          },
          "execution_count": 9
        }
      ]
    },
    {
      "cell_type": "markdown",
      "metadata": {
        "id": "0PmiuuKceJI5"
      },
      "source": [
        "# Building the model"
      ]
    },
    {
      "cell_type": "markdown",
      "metadata": {
        "id": "lHjtw7ssSe4l"
      },
      "source": [
        "Let's create a one-hot encoded representation of the label"
      ]
    },
    {
      "cell_type": "code",
      "metadata": {
        "id": "ep45CyCEeT_D"
      },
      "source": [
        "target = data_t.pop(\"single_label\")"
      ],
      "execution_count": null,
      "outputs": []
    },
    {
      "cell_type": "code",
      "metadata": {
        "id": "Db40ThELhSBz"
      },
      "source": [
        "one_hot_matrix = tf.one_hot( \r\n",
        "    target, 6, on_value = 1.0, off_value = 0.0, axis =-1) "
      ],
      "execution_count": null,
      "outputs": []
    },
    {
      "cell_type": "code",
      "metadata": {
        "colab": {
          "base_uri": "https://localhost:8080/"
        },
        "id": "TLmOO58Ni8vn",
        "outputId": "750fa64f-160d-482c-c72e-c80781a75dc8"
      },
      "source": [
        "one_hot_matrix"
      ],
      "execution_count": null,
      "outputs": [
        {
          "output_type": "execute_result",
          "data": {
            "text/plain": [
              "<tf.Tensor: shape=(149823, 6), dtype=float32, numpy=\n",
              "array([[0., 0., 0., 0., 0., 1.],\n",
              "       [0., 0., 0., 0., 0., 1.],\n",
              "       [1., 0., 0., 0., 0., 0.],\n",
              "       ...,\n",
              "       [1., 0., 0., 0., 0., 0.],\n",
              "       [1., 0., 0., 0., 0., 0.],\n",
              "       [1., 0., 0., 0., 0., 0.]], dtype=float32)>"
            ]
          },
          "metadata": {
            "tags": []
          },
          "execution_count": 12
        }
      ]
    },
    {
      "cell_type": "markdown",
      "metadata": {
        "id": "iunSkNh7SuEj"
      },
      "source": [
        "And let's convert the dataset to a tensorflow one, in order to use it easily with keras. "
      ]
    },
    {
      "cell_type": "code",
      "metadata": {
        "id": "4LBW1kIrcKUr"
      },
      "source": [
        "dataset = tf.data.Dataset.from_tensor_slices((data_t[\"tweet_text\"].values, one_hot_matrix))"
      ],
      "execution_count": null,
      "outputs": []
    },
    {
      "cell_type": "markdown",
      "metadata": {
        "id": "N81cfCP-Bche"
      },
      "source": [
        "### Train / validation / test splits\r\n",
        "\r\n",
        "The dataset is then shuffled and splitted in three parts: \r\n",
        "\r\n",
        "\r\n",
        "\r\n",
        "1. Train: 70%\r\n",
        "2.   Validation: 15%\r\n",
        "3. Test: 15%\r\n",
        "\r\n"
      ]
    },
    {
      "cell_type": "code",
      "metadata": {
        "id": "Xi3O2HyQBfBF"
      },
      "source": [
        "dataset = dataset.shuffle(len(dataset))"
      ],
      "execution_count": null,
      "outputs": []
    },
    {
      "cell_type": "code",
      "metadata": {
        "id": "UmQMN3_CEGp5"
      },
      "source": [
        "train_size = int(0.7 * len(dataset))\r\n",
        "val_size = int(0.15 * len(dataset))\r\n",
        "test_size = int(0.15 * len(dataset))"
      ],
      "execution_count": null,
      "outputs": []
    },
    {
      "cell_type": "code",
      "metadata": {
        "id": "KKrm9eZNEJnO"
      },
      "source": [
        "train_dataset = dataset.take(train_size)\r\n",
        "test_dataset = dataset.skip(train_size)\r\n",
        "val_dataset = test_dataset.skip(test_size)\r\n",
        "test_dataset = test_dataset.take(test_size)"
      ],
      "execution_count": null,
      "outputs": []
    },
    {
      "cell_type": "markdown",
      "metadata": {
        "id": "SpBEa6NknqQD"
      },
      "source": [
        "### RNN"
      ]
    },
    {
      "cell_type": "markdown",
      "metadata": {
        "id": "Sp-yOgWuTCzU"
      },
      "source": [
        "We can now build a RNN that starts with an embedding vector that considers a vocabulary size of 7000 words. "
      ]
    },
    {
      "cell_type": "code",
      "metadata": {
        "id": "bE2OcMYTopf1"
      },
      "source": [
        "VOCAB_SIZE=7000\r\n",
        "encoder = tf.keras.layers.experimental.preprocessing.TextVectorization(\r\n",
        "    max_tokens=VOCAB_SIZE)"
      ],
      "execution_count": null,
      "outputs": []
    },
    {
      "cell_type": "code",
      "metadata": {
        "id": "nqqPoYYCot1E"
      },
      "source": [
        "encoder.adapt(train_dataset.map(lambda text, label: text))"
      ],
      "execution_count": null,
      "outputs": []
    },
    {
      "cell_type": "markdown",
      "metadata": {
        "id": "ESM83A3vTK0w"
      },
      "source": [
        "The model is then created by the previously defined embedding layer, a LSTM layer composed by 356 units and then a fully connected deep neural network composed by three layers, with 256, 128 and 64 untis respectively. The output is the final classification out of the 6 possible ones. "
      ]
    },
    {
      "cell_type": "code",
      "metadata": {
        "id": "Qylr8Xhlntlq"
      },
      "source": [
        "model = keras.Sequential([\r\n",
        "    encoder,\r\n",
        "    tf.keras.layers.Embedding(\r\n",
        "        input_dim=len(encoder.get_vocabulary()),\r\n",
        "        output_dim=256,\r\n",
        "        # Use masking to handle the variable sequence lengths\r\n",
        "        mask_zero=True),\r\n",
        "    keras.layers.LSTM(256),\r\n",
        "    keras.layers.Dense(128, activation=\"relu\"),\r\n",
        "    keras.layers.Dropout(0.3),\r\n",
        "    keras.layers.Dense(64, activation=\"relu\"),\r\n",
        "    keras.layers.Dense(6, activation=\"softmax\")\r\n",
        "])"
      ],
      "execution_count": null,
      "outputs": []
    },
    {
      "cell_type": "markdown",
      "metadata": {
        "id": "uaHSubEPTdSt"
      },
      "source": [
        "We can then compile the model"
      ]
    },
    {
      "cell_type": "code",
      "metadata": {
        "id": "PXWba9VicKUt"
      },
      "source": [
        "model.compile(loss=\"categorical_crossentropy\", optimizer=\"adam\",\n",
        "              metrics=[\"accuracy\"])"
      ],
      "execution_count": null,
      "outputs": []
    },
    {
      "cell_type": "markdown",
      "metadata": {
        "id": "7eE70LihTfnA"
      },
      "source": [
        "and fit it on the training dataset for 25 epochs"
      ]
    },
    {
      "cell_type": "code",
      "metadata": {
        "scrolled": true,
        "colab": {
          "base_uri": "https://localhost:8080/"
        },
        "id": "kz8LhXX-cKUu",
        "outputId": "88ea13a3-c7c5-4e88-d51a-2c43532ea02d"
      },
      "source": [
        "history = model.fit(train_dataset.batch(32), epochs=25, validation_data=val_dataset.batch(32))"
      ],
      "execution_count": null,
      "outputs": [
        {
          "output_type": "stream",
          "text": [
            "Epoch 1/25\n",
            "3278/3278 [==============================] - 88s 24ms/step - loss: 0.7627 - accuracy: 0.7507 - val_loss: 0.6614 - val_accuracy: 0.7609\n",
            "Epoch 2/25\n",
            "3278/3278 [==============================] - 76s 23ms/step - loss: 0.6689 - accuracy: 0.7578 - val_loss: 0.6459 - val_accuracy: 0.7617\n",
            "Epoch 3/25\n",
            "3278/3278 [==============================] - 75s 23ms/step - loss: 0.6474 - accuracy: 0.7628 - val_loss: 0.6193 - val_accuracy: 0.7744\n",
            "Epoch 4/25\n",
            "3278/3278 [==============================] - 75s 23ms/step - loss: 0.6271 - accuracy: 0.7682 - val_loss: 0.6023 - val_accuracy: 0.7818\n",
            "Epoch 5/25\n",
            "3278/3278 [==============================] - 77s 23ms/step - loss: 0.6110 - accuracy: 0.7750 - val_loss: 0.5857 - val_accuracy: 0.7831\n",
            "Epoch 6/25\n",
            "3278/3278 [==============================] - 79s 24ms/step - loss: 0.5915 - accuracy: 0.7832 - val_loss: 0.5554 - val_accuracy: 0.7928\n",
            "Epoch 7/25\n",
            "3278/3278 [==============================] - 79s 24ms/step - loss: 0.5679 - accuracy: 0.7904 - val_loss: 0.5354 - val_accuracy: 0.8055\n",
            "Epoch 8/25\n",
            "3278/3278 [==============================] - 79s 24ms/step - loss: 0.5389 - accuracy: 0.8026 - val_loss: 0.5036 - val_accuracy: 0.8140\n",
            "Epoch 9/25\n",
            "3278/3278 [==============================] - 79s 24ms/step - loss: 0.5101 - accuracy: 0.8119 - val_loss: 0.4734 - val_accuracy: 0.8272\n",
            "Epoch 10/25\n",
            "3278/3278 [==============================] - 79s 24ms/step - loss: 0.4836 - accuracy: 0.8228 - val_loss: 0.4506 - val_accuracy: 0.8407\n",
            "Epoch 11/25\n",
            "3278/3278 [==============================] - 80s 24ms/step - loss: 0.4479 - accuracy: 0.8361 - val_loss: 0.4067 - val_accuracy: 0.8555\n",
            "Epoch 12/25\n",
            "3278/3278 [==============================] - 79s 24ms/step - loss: 0.4164 - accuracy: 0.8493 - val_loss: 0.3755 - val_accuracy: 0.8627\n",
            "Epoch 13/25\n",
            "3278/3278 [==============================] - 79s 24ms/step - loss: 0.3878 - accuracy: 0.8620 - val_loss: 0.3522 - val_accuracy: 0.8737\n",
            "Epoch 14/25\n",
            "3278/3278 [==============================] - 80s 24ms/step - loss: 0.3634 - accuracy: 0.8696 - val_loss: 0.3174 - val_accuracy: 0.8888\n",
            "Epoch 15/25\n",
            "3278/3278 [==============================] - 80s 24ms/step - loss: 0.3337 - accuracy: 0.8828 - val_loss: 0.2875 - val_accuracy: 0.8957\n",
            "Epoch 16/25\n",
            "3278/3278 [==============================] - 79s 24ms/step - loss: 0.3095 - accuracy: 0.8889 - val_loss: 0.2768 - val_accuracy: 0.9025\n",
            "Epoch 17/25\n",
            "3278/3278 [==============================] - 79s 24ms/step - loss: 0.2930 - accuracy: 0.8956 - val_loss: 0.2557 - val_accuracy: 0.9084\n",
            "Epoch 18/25\n",
            "3278/3278 [==============================] - 80s 24ms/step - loss: 0.2759 - accuracy: 0.9019 - val_loss: 0.2375 - val_accuracy: 0.9158\n",
            "Epoch 19/25\n",
            "3278/3278 [==============================] - 79s 24ms/step - loss: 0.2580 - accuracy: 0.9092 - val_loss: 0.2372 - val_accuracy: 0.9131\n",
            "Epoch 20/25\n",
            "3278/3278 [==============================] - 79s 24ms/step - loss: 0.2442 - accuracy: 0.9124 - val_loss: 0.2217 - val_accuracy: 0.9224\n",
            "Epoch 21/25\n",
            "3278/3278 [==============================] - 80s 24ms/step - loss: 0.2323 - accuracy: 0.9179 - val_loss: 0.2079 - val_accuracy: 0.9280\n",
            "Epoch 22/25\n",
            "3278/3278 [==============================] - 80s 24ms/step - loss: 0.2235 - accuracy: 0.9199 - val_loss: 0.2059 - val_accuracy: 0.9272\n",
            "Epoch 23/25\n",
            "3278/3278 [==============================] - 80s 24ms/step - loss: 0.2162 - accuracy: 0.9231 - val_loss: 0.1906 - val_accuracy: 0.9320\n",
            "Epoch 24/25\n",
            "3278/3278 [==============================] - 80s 24ms/step - loss: 0.2048 - accuracy: 0.9270 - val_loss: 0.1815 - val_accuracy: 0.9363\n",
            "Epoch 25/25\n",
            "3278/3278 [==============================] - 80s 24ms/step - loss: 0.1990 - accuracy: 0.9303 - val_loss: 0.1760 - val_accuracy: 0.9370\n"
          ],
          "name": "stdout"
        }
      ]
    },
    {
      "cell_type": "markdown",
      "metadata": {
        "id": "apxrEIauTjuH"
      },
      "source": [
        "We can see how we obtained an accuracy of 93% on the validation set. Evaluating the model on the test set confirmed the quite high accuracy. "
      ]
    },
    {
      "cell_type": "code",
      "metadata": {
        "colab": {
          "base_uri": "https://localhost:8080/"
        },
        "id": "Kwpf-RQm5_iw",
        "outputId": "7e913770-e952-4648-81db-b76ee295be30"
      },
      "source": [
        "model.evaluate(test_dataset.batch(32))"
      ],
      "execution_count": null,
      "outputs": [
        {
          "output_type": "stream",
          "text": [
            "703/703 [==============================] - 4s 5ms/step - loss: 0.1794 - accuracy: 0.9370\n"
          ],
          "name": "stdout"
        },
        {
          "output_type": "execute_result",
          "data": {
            "text/plain": [
              "[0.17937171459197998, 0.9370355606079102]"
            ]
          },
          "metadata": {
            "tags": []
          },
          "execution_count": 23
        }
      ]
    },
    {
      "cell_type": "markdown",
      "metadata": {
        "id": "lktS5lVwTt9s"
      },
      "source": [
        "We can so then save the model for later use. "
      ]
    },
    {
      "cell_type": "code",
      "metadata": {
        "colab": {
          "base_uri": "https://localhost:8080/"
        },
        "id": "kfRZBb74LnMA",
        "outputId": "6c585a0e-6748-42bf-abe4-31282f30ba00"
      },
      "source": [
        "model.save(\"model\")"
      ],
      "execution_count": null,
      "outputs": [
        {
          "output_type": "stream",
          "text": [
            "WARNING:absl:Found untraced functions such as lstm_cell_layer_call_and_return_conditional_losses, lstm_cell_layer_call_fn, lstm_cell_layer_call_fn, lstm_cell_layer_call_and_return_conditional_losses, lstm_cell_layer_call_and_return_conditional_losses while saving (showing 5 of 5). These functions will not be directly callable after loading.\n",
            "WARNING:absl:Found untraced functions such as lstm_cell_layer_call_and_return_conditional_losses, lstm_cell_layer_call_fn, lstm_cell_layer_call_fn, lstm_cell_layer_call_and_return_conditional_losses, lstm_cell_layer_call_and_return_conditional_losses while saving (showing 5 of 5). These functions will not be directly callable after loading.\n"
          ],
          "name": "stderr"
        },
        {
          "output_type": "stream",
          "text": [
            "INFO:tensorflow:Assets written to: model/assets\n"
          ],
          "name": "stdout"
        },
        {
          "output_type": "stream",
          "text": [
            "INFO:tensorflow:Assets written to: model/assets\n"
          ],
          "name": "stderr"
        }
      ]
    },
    {
      "cell_type": "markdown",
      "metadata": {
        "id": "VQpqCnhCTw57"
      },
      "source": [
        "downloading it from Google Colab"
      ]
    },
    {
      "cell_type": "code",
      "metadata": {
        "id": "qFdA2myAMAhk"
      },
      "source": [
        "from google.colab import files"
      ],
      "execution_count": null,
      "outputs": []
    },
    {
      "cell_type": "code",
      "metadata": {
        "colab": {
          "base_uri": "https://localhost:8080/"
        },
        "id": "AP1iqF7-MZ2n",
        "outputId": "f2d881e7-3953-4a2d-ec8c-ff3488ee3afa"
      },
      "source": [
        "!zip -r /content/model.zip /content/model"
      ],
      "execution_count": null,
      "outputs": [
        {
          "output_type": "stream",
          "text": [
            "  adding: content/model/ (stored 0%)\n",
            "  adding: content/model/saved_model.pb (deflated 90%)\n",
            "  adding: content/model/assets/ (stored 0%)\n",
            "  adding: content/model/variables/ (stored 0%)\n",
            "  adding: content/model/variables/variables.index (deflated 63%)\n",
            "  adding: content/model/variables/variables.data-00000-of-00001 (deflated 7%)\n"
          ],
          "name": "stdout"
        }
      ]
    },
    {
      "cell_type": "code",
      "metadata": {
        "colab": {
          "base_uri": "https://localhost:8080/",
          "height": 17
        },
        "id": "d13R9IYNMVb_",
        "outputId": "ff57946a-7fb2-47f7-fa50-e68d5fda14ea"
      },
      "source": [
        "files.download(\"/content/model.zip\")"
      ],
      "execution_count": null,
      "outputs": [
        {
          "output_type": "display_data",
          "data": {
            "application/javascript": [
              "\n",
              "    async function download(id, filename, size) {\n",
              "      if (!google.colab.kernel.accessAllowed) {\n",
              "        return;\n",
              "      }\n",
              "      const div = document.createElement('div');\n",
              "      const label = document.createElement('label');\n",
              "      label.textContent = `Downloading \"${filename}\": `;\n",
              "      div.appendChild(label);\n",
              "      const progress = document.createElement('progress');\n",
              "      progress.max = size;\n",
              "      div.appendChild(progress);\n",
              "      document.body.appendChild(div);\n",
              "\n",
              "      const buffers = [];\n",
              "      let downloaded = 0;\n",
              "\n",
              "      const channel = await google.colab.kernel.comms.open(id);\n",
              "      // Send a message to notify the kernel that we're ready.\n",
              "      channel.send({})\n",
              "\n",
              "      for await (const message of channel.messages) {\n",
              "        // Send a message to notify the kernel that we're ready.\n",
              "        channel.send({})\n",
              "        if (message.buffers) {\n",
              "          for (const buffer of message.buffers) {\n",
              "            buffers.push(buffer);\n",
              "            downloaded += buffer.byteLength;\n",
              "            progress.value = downloaded;\n",
              "          }\n",
              "        }\n",
              "      }\n",
              "      const blob = new Blob(buffers, {type: 'application/binary'});\n",
              "      const a = document.createElement('a');\n",
              "      a.href = window.URL.createObjectURL(blob);\n",
              "      a.download = filename;\n",
              "      div.appendChild(a);\n",
              "      a.click();\n",
              "      div.remove();\n",
              "    }\n",
              "  "
            ],
            "text/plain": [
              "<IPython.core.display.Javascript object>"
            ]
          },
          "metadata": {
            "tags": []
          }
        },
        {
          "output_type": "display_data",
          "data": {
            "application/javascript": [
              "download(\"download_40e24dfa-f332-42c5-918b-a9dc02edfef9\", \"model.zip\", 26804169)"
            ],
            "text/plain": [
              "<IPython.core.display.Javascript object>"
            ]
          },
          "metadata": {
            "tags": []
          }
        }
      ]
    },
    {
      "cell_type": "code",
      "metadata": {
        "id": "bZ28R3VXMjEN"
      },
      "source": [
        ""
      ],
      "execution_count": null,
      "outputs": []
    }
  ]
}